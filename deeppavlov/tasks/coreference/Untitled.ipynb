{
 "cells": [
  {
   "cell_type": "code",
   "execution_count": 5,
   "metadata": {},
   "outputs": [],
   "source": [
    "from os.path import join\n",
    "import collections\n",
    "\n",
    "dpath = '/home/petrov/coreference_kpi/deeppavlov/coreference/src/parlai/data/coreference/russian/agent/'\n",
    "cpath = join(dpath, 'vocab', 'char_vocab.russian.txt')"
   ]
  },
  {
   "cell_type": "code",
   "execution_count": 29,
   "metadata": {},
   "outputs": [],
   "source": [
    "def load_char_dict(char_vocab_path):\n",
    "    vocab = [u\"<unk>\"]\n",
    "    with open(char_vocab_path) as f:\n",
    "        vocab.extend(c.strip() for c in f.readlines())\n",
    "    char_dict = collections.defaultdict(int)\n",
    "    char_dict.update({c: i for i, c in enumerate(sorted(set(vocab)))})\n",
    "    return char_dict, vocab"
   ]
  },
  {
   "cell_type": "code",
   "execution_count": 30,
   "metadata": {},
   "outputs": [
    {
     "name": "stdout",
     "output_type": "stream",
     "text": [
      "199\n"
     ]
    }
   ],
   "source": [
    "z, v = load_char_dict(cpath)\n",
    "print(len(z))"
   ]
  },
  {
   "cell_type": "code",
   "execution_count": 31,
   "metadata": {},
   "outputs": [
    {
     "name": "stdout",
     "output_type": "stream",
     "text": [
      "defaultdict(<class 'int'>, {'': 0, '!': 1, '\"': 2, '$': 3, '%': 4, '&': 5, \"'\": 6, '(': 7, ')': 8, '*': 9, '+': 10, ',': 11, '-': 12, '.': 13, '/': 14, '0': 15, '1': 16, '2': 17, '3': 18, '4': 19, '5': 20, '6': 21, '7': 22, '8': 23, '9': 24, ':': 25, ';': 26, '<': 27, '<unk>': 28, '=': 29, '>': 30, '?': 31, '@': 32, 'A': 33, 'B': 34, 'C': 35, 'D': 36, 'E': 37, 'F': 38, 'G': 39, 'H': 40, 'I': 41, 'J': 42, 'K': 43, 'L': 44, 'M': 45, 'N': 46, 'O': 47, 'P': 48, 'Q': 49, 'R': 50, 'S': 51, 'T': 52, 'U': 53, 'V': 54, 'W': 55, 'X': 56, 'Y': 57, 'Z': 58, '[': 59, ']': 60, '_': 61, '`': 62, 'a': 63, 'b': 64, 'c': 65, 'd': 66, 'e': 67, 'f': 68, 'g': 69, 'h': 70, 'i': 71, 'j': 72, 'k': 73, 'l': 74, 'm': 75, 'n': 76, 'o': 77, 'p': 78, 'q': 79, 'r': 80, 's': 81, 't': 82, 'u': 83, 'v': 84, 'w': 85, 'x': 86, 'y': 87, 'z': 88, '£': 89, '«': 90, '°': 91, 'º': 92, '»': 93, '×': 94, 'æ': 95, 'é': 96, 'ö': 97, '÷': 98, 'ú': 99, 'ü': 100, 'Ġ': 101, 'ə': 102, 'ɛ': 103, 'ɪ': 104, 'ʃ': 105, 'ˈ': 106, 'α': 107, 'β': 108, 'γ': 109, 'δ': 110, 'ε': 111, 'ζ': 112, 'η': 113, 'ι': 114, 'λ': 115, 'μ': 116, 'ν': 117, 'ο': 118, 'ρ': 119, 'σ': 120, 'Ё': 121, 'А': 122, 'Б': 123, 'В': 124, 'Г': 125, 'Д': 126, 'Е': 127, 'Ж': 128, 'З': 129, 'И': 130, 'Й': 131, 'К': 132, 'Л': 133, 'М': 134, 'Н': 135, 'О': 136, 'П': 137, 'Р': 138, 'С': 139, 'Т': 140, 'У': 141, 'Ф': 142, 'Х': 143, 'Ц': 144, 'Ч': 145, 'Ш': 146, 'Щ': 147, 'Ы': 148, 'Ь': 149, 'Э': 150, 'Ю': 151, 'Я': 152, 'а': 153, 'б': 154, 'в': 155, 'г': 156, 'д': 157, 'е': 158, 'ж': 159, 'з': 160, 'и': 161, 'й': 162, 'к': 163, 'л': 164, 'м': 165, 'н': 166, 'о': 167, 'п': 168, 'р': 169, 'с': 170, 'т': 171, 'у': 172, 'ф': 173, 'х': 174, 'ц': 175, 'ч': 176, 'ш': 177, 'щ': 178, 'ъ': 179, 'ы': 180, 'ь': 181, 'э': 182, 'ю': 183, 'я': 184, 'ё': 185, 'ἔ': 186, 'ῶ': 187, '–': 188, '—': 189, '―': 190, '‘': 191, '’': 192, '“': 193, '”': 194, '•': 195, '…': 196, '№': 197, '�': 198})\n"
     ]
    }
   ],
   "source": [
    "print(z)"
   ]
  },
  {
   "cell_type": "code",
   "execution_count": 24,
   "metadata": {},
   "outputs": [
    {
     "name": "stdout",
     "output_type": "stream",
     "text": [
      "['<unk>', '', '', '', '!', '\"', '$', '%', '&', \"'\", '(', ')', '*', '+', ',', '-', '.', '/', '0', '1', '2', '3', '4', '5', '6', '7', '8', '9', ':', ';', '<', '=', '>', '?', '@', 'A', 'B', 'C', 'D', 'E', 'F', 'G', 'H', 'I', 'J', 'K', 'L', 'M', 'N', 'O', 'P', 'Q', 'R', 'S', 'T', 'U', 'V', 'W', 'X', 'Y', 'Z', '[', ']', '_', '`', 'a', 'b', 'c', 'd', 'e', 'f', 'g', 'h', 'i', 'j', 'k', 'l', 'm', 'n', 'o', 'p', 'q', 'r', 's', 't', 'u', 'v', 'w', 'x', 'y', 'z', '£', '«', '°', 'º', '»', '×', 'æ', 'é', 'ö', '÷', 'ú', 'ü', 'Ġ', 'ə', 'ɛ', 'ɪ', 'ʃ', 'ˈ', 'α', 'β', 'γ', 'δ', 'ε', 'ζ', 'η', 'ι', 'λ', 'μ', 'ν', 'ο', 'ρ', 'σ', 'Ё', 'А', 'Б', 'В', 'Г', 'Д', 'Е', 'Ж', 'З', 'И', 'Й', 'К', 'Л', 'М', 'Н', 'О', 'П', 'Р', 'С', 'Т', 'У', 'Ф', 'Х', 'Ц', 'Ч', 'Ш', 'Щ', 'Ы', 'Ь', 'Э', 'Ю', 'Я', 'а', 'б', 'в', 'г', 'д', 'е', 'ж', 'з', 'и', 'й', 'к', 'л', 'м', 'н', 'о', 'п', 'р', 'с', 'т', 'у', 'ф', 'х', 'ц', 'ч', 'ш', 'щ', 'ъ', 'ы', 'ь', 'э', 'ю', 'я', 'ё', 'ἔ', 'ῶ', '–', '—', '―', '‘', '’', '“', '”', '•', '…', '№', '�']\n"
     ]
    }
   ],
   "source": [
    "print(v)"
   ]
  },
  {
   "cell_type": "code",
   "execution_count": 17,
   "metadata": {},
   "outputs": [
    {
     "name": "stdout",
     "output_type": "stream",
     "text": [
      "199\n"
     ]
    }
   ],
   "source": [
    "print(len(sorted(set(v))))"
   ]
  },
  {
   "cell_type": "code",
   "execution_count": null,
   "metadata": {},
   "outputs": [],
   "source": []
  }
 ],
 "metadata": {
  "kernelspec": {
   "display_name": "Python 3",
   "language": "python",
   "name": "python3"
  },
  "language_info": {
   "codemirror_mode": {
    "name": "ipython",
    "version": 3
   },
   "file_extension": ".py",
   "mimetype": "text/x-python",
   "name": "python",
   "nbconvert_exporter": "python",
   "pygments_lexer": "ipython3",
   "version": "3.6.2"
  }
 },
 "nbformat": 4,
 "nbformat_minor": 2
}
