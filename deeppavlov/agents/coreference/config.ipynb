{
 "cells": [
  {
   "cell_type": "code",
   "execution_count": null,
   "metadata": {
    "collapsed": true
   },
   "outputs": [],
   "source": [
    "def add_cmdline_args(parser):\n",
    "    agent.add_argument('--gpu', type=int, default=0)\n",
    "    \n",
    "    # Basics\n",
    "    agent.add_argument('--pretrained_model', type=str, default=None,\n",
    "                       help='Load dict/features/weights/opts from this file prefix')\n",
    "    agent.add_argument('--log_file', type=str, default=None)\n",
    "    agent.add_argument('--model_file', type=str, default=None,\n",
    "                       help='Save dict/features/weights/opts to this file')\n",
    "    agent.add_argument('--fasttext_model', type=str, default=None,\n",
    "                       help='fasttext trained model file name')\n",
    "    agent.add_argument('-fed', '--fasttext_embeddings_dict', type=str, default=None,\n",
    "                       help='saved fasttext embeddings dict')\n",
    "    \n",
    "    # Model details\n",
    "    # Computation limits.\n",
    "    agent.add_argument('--max_antecedents',type=str,default=250,help='')\n",
    "    agent.add_argument('--max_training_sentences',type=str,default=50,help='')\n",
    "    agent.add_argument('--mention_ratio',type=str,default=0.4,help='')\n",
    "    # Model hyperparameters.\n",
    "    agent.add_argument('--filter_widths',type=str,default=[3, 4, 5],help='')\n",
    "    agent.add_argument('--filter_size',type=str,default=50,help='')\n",
    "    agent.add_argument('--char_embedding_size',type=str,default=8,help='')\n",
    "    agent.add_argument('--char_vocab_path',type=str,default=\"./built/coreference/russian/vocab/char_vocab.russian.txt\",help='')\n",
    "    agent.add_argument('--lstm_size',type=str,default=200,help='')\n",
    "    agent.add_argument('--ffnn_size',type=str,default=150,help='')\n",
    "    agent.add_argument('--ffnn_depth',type=str,default=2,help='')\n",
    "    agent.add_argument('--feature_size',type=str,default=20,help='')\n",
    "    agent.add_argument('--max_mention_width',type=str,default=10,help='')\n",
    "    agent.add_argument('--use_metadata',type=str,default=true,help='')\n",
    "    agent.add_argument('--use_features',type=str,default=true,help='')\n",
    "    agent.add_argument('--model_heads',type=str,default=true,help='')\n",
    "    # Learning hyperparameters.\n",
    "    agent.add_argument('--max_gradient_norm',type=str,default=5.0,help='')\n",
    "    agent.add_argument('--lexical_dropout_rate',type=str,default=0.5,help='')\n",
    "    agent.add_argument('--dropout_rate',type=str,default=0.2,help='')\n",
    "    agent.add_argument('--optimizer',type=str,default=adam,help='')\n",
    "    agent.add_argument('--learning_rate',type=str,default=0.001,help='')\n",
    "    agent.add_argument('--filter_size',type=str,default=50,help='')\n",
    "\n",
    "     = \n",
    "     = \n",
    "    decay_rate = 0.999\n",
    "    decay_frequency = 100\n",
    "\n",
    "    # Other.\n",
    "    train_path = ./data/new/train.russian.jsonlines\n",
    "    eval_path = ./data/new/dev.russian.jsonlines\n",
    "    conll_eval_path = ./my_conll/new/dev.russian.v4_conll\n",
    "    genres = [bc]\n",
    "    eval_frequency = 1000\n",
    "    report_frequency = 100\n",
    "    log_root = logs\n",
    "    cluster = ${appositive}"
   ]
  }
 ],
 "metadata": {
  "kernelspec": {
   "display_name": "Python 3",
   "language": "python",
   "name": "python3"
  },
  "language_info": {
   "codemirror_mode": {
    "name": "ipython",
    "version": 3
   },
   "file_extension": ".py",
   "mimetype": "text/x-python",
   "name": "python",
   "nbconvert_exporter": "python",
   "pygments_lexer": "ipython3",
   "version": "3.6.1"
  }
 },
 "nbformat": 4,
 "nbformat_minor": 2
}
